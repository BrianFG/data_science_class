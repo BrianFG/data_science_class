{
 "cells": [
  {
   "cell_type": "markdown",
   "id": "naughty-chance",
   "metadata": {},
   "source": [
    "# Final Exam"
   ]
  },
  {
   "cell_type": "markdown",
   "id": "thick-tiffany",
   "metadata": {},
   "source": [
    "## Dataset\n",
    "\n",
    "This dataset contains house sale prices for King County, which includes Seattle. It includes homes sold between May 2014 and May 2015.\n",
    "\n",
    "We will use this dataset for several exercises:\n",
    "- T test\n",
    "- One way ANOVA\n",
    "- Single variable linear regression\n",
    "- Multiple Variable linear regresion\n"
   ]
  },
  {
   "cell_type": "markdown",
   "id": "biblical-guidance",
   "metadata": {},
   "source": [
    "### Columns\n",
    "\n",
    "* **id** - Unique ID for each home sold\n",
    "* **date** - Date of the home sale\n",
    "* **price** - Price of each home sold\n",
    "* **bedrooms** - Number of bedrooms\n",
    "* **bathrooms** - Number of bathrooms, where .5 accounts for a room with a toilet but no shower\n",
    "* **sqft_living** - Square footage of the apartments interior living space\n",
    "* **sqft_lot** - Square footage of the land space\n",
    "* **floors** - Number of floors\n",
    "* **waterfront** - A dummy variable for whether the apartment was overlooking the waterfront or not\n",
    "* **view** - An index from 0 to 4 of how good the view of the property was\n",
    "* **condition** - An index from 1 to 5 on the condition of the apartment,\n",
    "* **grade** - An index from 1 to 13, describes quality level of construction and design. The higher the better\n",
    "* **sqft_above** - The square footage of the interior housing space that is above ground level\n",
    "* **sqft_basement** - The square footage of the interior housing space that is below ground level\n",
    "* **yr_built** - The year the house was initially built\n",
    "* **yr_renovated** - The year of the house’s last renovation\n",
    "* **zipcode** - What zipcode area the house is in\n",
    "* **lat** - Lattitude\n",
    "* **long** - Longitude\n",
    "* **sqft_living15** - The square footage of interior housing living space for the nearest 15 neighbors\n",
    "* **sqft_lot15** - The square footage of the land lots of the nearest 15 neighbors"
   ]
  },
  {
   "cell_type": "code",
   "execution_count": 20,
   "id": "determined-question",
   "metadata": {},
   "outputs": [],
   "source": [
    "import pandas as pd"
   ]
  },
  {
   "cell_type": "code",
   "execution_count": 21,
   "id": "needed-serbia",
   "metadata": {},
   "outputs": [],
   "source": [
    "house_df = pd.read_csv('./kc_house_data.csv')"
   ]
  },
  {
   "cell_type": "markdown",
   "id": "metallic-hampton",
   "metadata": {},
   "source": [
    "---"
   ]
  },
  {
   "cell_type": "markdown",
   "id": "extensive-wrestling",
   "metadata": {},
   "source": [
    "## Pandas Basics"
   ]
  },
  {
   "cell_type": "markdown",
   "id": "excess-announcement",
   "metadata": {},
   "source": [
    "Print the first and the last 3 rows of the dataset"
   ]
  },
  {
   "cell_type": "code",
   "execution_count": null,
   "id": "challenging-plant",
   "metadata": {},
   "outputs": [],
   "source": []
  },
  {
   "cell_type": "code",
   "execution_count": null,
   "id": "dietary-bowling",
   "metadata": {},
   "outputs": [],
   "source": []
  },
  {
   "cell_type": "markdown",
   "id": "brilliant-place",
   "metadata": {},
   "source": [
    "Print the column datatypes "
   ]
  },
  {
   "cell_type": "code",
   "execution_count": null,
   "id": "electric-clear",
   "metadata": {},
   "outputs": [],
   "source": []
  },
  {
   "cell_type": "markdown",
   "id": "laden-promise",
   "metadata": {},
   "source": [
    "Convert the `date` column into datatime "
   ]
  },
  {
   "cell_type": "code",
   "execution_count": 1,
   "id": "metropolitan-lexington",
   "metadata": {},
   "outputs": [],
   "source": [
    "# pandas todatime might help"
   ]
  },
  {
   "cell_type": "markdown",
   "id": "weighted-final",
   "metadata": {},
   "source": [
    "Which is the highest house price? "
   ]
  },
  {
   "cell_type": "code",
   "execution_count": null,
   "id": "false-spelling",
   "metadata": {},
   "outputs": [],
   "source": []
  },
  {
   "cell_type": "markdown",
   "id": "protective-mechanism",
   "metadata": {},
   "source": [
    "Select the `[sqft_living, price, grade, zipcode]` of the houses with the `max` `grade`"
   ]
  },
  {
   "cell_type": "code",
   "execution_count": null,
   "id": "cleared-script",
   "metadata": {},
   "outputs": [],
   "source": []
  },
  {
   "cell_type": "markdown",
   "id": "compound-overview",
   "metadata": {},
   "source": [
    "Print the earliest and latest registry dates"
   ]
  },
  {
   "cell_type": "code",
   "execution_count": null,
   "id": "worldwide-marshall",
   "metadata": {},
   "outputs": [],
   "source": []
  },
  {
   "cell_type": "markdown",
   "id": "automatic-coupon",
   "metadata": {},
   "source": [
    "---"
   ]
  },
  {
   "cell_type": "markdown",
   "id": "respective-hacker",
   "metadata": {},
   "source": [
    "\n",
    "## Plotting"
   ]
  },
  {
   "cell_type": "code",
   "execution_count": 2,
   "id": "noble-morrison",
   "metadata": {},
   "outputs": [],
   "source": [
    "test_variables = ['bedrooms', 'bathrooms', 'sqft_living', 'sqft_lot', 'floors', 'grade', 'view']"
   ]
  },
  {
   "cell_type": "markdown",
   "id": "qualified-aerospace",
   "metadata": {},
   "source": [
    "From the test variables, select 3 of them and plot their frequency histogram"
   ]
  },
  {
   "cell_type": "code",
   "execution_count": 3,
   "id": "adverse-quality",
   "metadata": {},
   "outputs": [],
   "source": [
    "# Pandas dataframe has a way to plot histograms"
   ]
  },
  {
   "cell_type": "markdown",
   "id": "legislative-wilson",
   "metadata": {},
   "source": [
    "From the test variables, select 3  that you think has the highest correlation with the dependant variable `price`\n",
    "\n",
    "Plot them using `lm_plot`"
   ]
  },
  {
   "cell_type": "code",
   "execution_count": null,
   "id": "beneficial-button",
   "metadata": {},
   "outputs": [],
   "source": []
  },
  {
   "cell_type": "code",
   "execution_count": null,
   "id": "handy-seafood",
   "metadata": {},
   "outputs": [],
   "source": []
  },
  {
   "cell_type": "code",
   "execution_count": null,
   "id": "integral-secretariat",
   "metadata": {},
   "outputs": [],
   "source": []
  },
  {
   "cell_type": "markdown",
   "id": "amber-cricket",
   "metadata": {},
   "source": [
    "---"
   ]
  },
  {
   "cell_type": "markdown",
   "id": "musical-improvement",
   "metadata": {},
   "source": [
    "## Statistics\n",
    "\n",
    "### T test\n",
    "\n",
    "#### One Sample t test"
   ]
  },
  {
   "cell_type": "markdown",
   "id": "similar-spell",
   "metadata": {},
   "source": [
    "Find the t test and p-value for the `floors` of houses in `zipcode` **98039*** against all data\n",
    "\n",
    "Interpret the results"
   ]
  },
  {
   "cell_type": "code",
   "execution_count": null,
   "id": "superior-occasions",
   "metadata": {},
   "outputs": [],
   "source": []
  },
  {
   "cell_type": "markdown",
   "id": "prepared-charger",
   "metadata": {},
   "source": [
    "#### Two sample t test"
   ]
  },
  {
   "cell_type": "markdown",
   "id": "personal-plate",
   "metadata": {},
   "source": [
    "Calculate the `t` test and the `p-value` for the house `bathrooms` with **7** and **8** `bedrooms` \n",
    "\n",
    "Interpret the results"
   ]
  },
  {
   "cell_type": "code",
   "execution_count": null,
   "id": "supported-third",
   "metadata": {},
   "outputs": [],
   "source": []
  },
  {
   "cell_type": "markdown",
   "id": "corporate-boost",
   "metadata": {},
   "source": [
    "### One way ANOVA\n",
    "\n",
    "Use one way ANOVA to compare the `floors` variance between houses with  5,6,7,8  `bedrooms`\n",
    "\n",
    "Interpret results"
   ]
  },
  {
   "cell_type": "code",
   "execution_count": null,
   "id": "referenced-skirt",
   "metadata": {},
   "outputs": [],
   "source": []
  },
  {
   "cell_type": "markdown",
   "id": "latest-savannah",
   "metadata": {},
   "source": [
    "---"
   ]
  },
  {
   "cell_type": "markdown",
   "id": "breathing-pastor",
   "metadata": {},
   "source": [
    "## Linear Regression"
   ]
  },
  {
   "cell_type": "markdown",
   "id": "dried-copying",
   "metadata": {},
   "source": [
    "Use `ols` for each column and print the `r-squared` and `p-value`"
   ]
  },
  {
   "cell_type": "code",
   "execution_count": 6,
   "id": "retained-marina",
   "metadata": {},
   "outputs": [],
   "source": [
    "#for column in house_df.columns:\n",
    "    #results = ols(...)\n"
   ]
  },
  {
   "cell_type": "markdown",
   "id": "white-wells",
   "metadata": {},
   "source": [
    "Use statsmodels `ols` to find the r squared value for all variables. Interpret  the results"
   ]
  },
  {
   "cell_type": "code",
   "execution_count": 7,
   "id": "right-compilation",
   "metadata": {},
   "outputs": [],
   "source": [
    "from statsmodels.formula.api import ols\n",
    "# ols summary\n",
    "# Remember you need to include only numerical data, and exclude id"
   ]
  },
  {
   "cell_type": "markdown",
   "id": "anticipated-maximum",
   "metadata": {},
   "source": [
    "Print the coeficients and p values from each dependant variable"
   ]
  },
  {
   "cell_type": "code",
   "execution_count": 8,
   "id": "artificial-alias",
   "metadata": {},
   "outputs": [],
   "source": [
    "# coeficients\n",
    "\n",
    "# p values\n"
   ]
  },
  {
   "cell_type": "markdown",
   "id": "formal-yeast",
   "metadata": {},
   "source": [
    "Which are the 3 variables with the highest coeficient? Do it by code"
   ]
  },
  {
   "cell_type": "code",
   "execution_count": 9,
   "id": "silver-producer",
   "metadata": {},
   "outputs": [],
   "source": [
    "# params returns a pandas series, you can select values like any python or numpy array"
   ]
  },
  {
   "cell_type": "markdown",
   "id": "brilliant-billion",
   "metadata": {},
   "source": [
    "### Sklearn LinearRegresion"
   ]
  },
  {
   "cell_type": "markdown",
   "id": "civic-apache",
   "metadata": {},
   "source": [
    "Using LinearRegression train a model and get the accuracy score "
   ]
  },
  {
   "cell_type": "code",
   "execution_count": 11,
   "id": "focused-black",
   "metadata": {},
   "outputs": [],
   "source": [
    "from sklearn.model_selection import train_test_split\n",
    "from sklearn.linear_model import LinearRegression\n",
    "\n",
    "\n"
   ]
  },
  {
   "cell_type": "markdown",
   "id": "introductory-savings",
   "metadata": {},
   "source": [
    "---"
   ]
  },
  {
   "cell_type": "markdown",
   "id": "upset-phenomenon",
   "metadata": {},
   "source": [
    "## VIF Multicoliniarity "
   ]
  },
  {
   "cell_type": "markdown",
   "id": "micro-survey",
   "metadata": {},
   "source": [
    "Calculate the VIF for every value in the data. "
   ]
  },
  {
   "cell_type": "code",
   "execution_count": 13,
   "id": "attempted-satin",
   "metadata": {},
   "outputs": [],
   "source": [
    "from statsmodels.stats.outliers_influence import variance_inflation_factor\n",
    "# Use this to select only numeric data\n",
    "# numeric_df = house_df._get_numeric_data().drop(['price'], axis=1)\n"
   ]
  },
  {
   "cell_type": "markdown",
   "id": "regulated-psychiatry",
   "metadata": {},
   "source": [
    "---"
   ]
  },
  {
   "cell_type": "markdown",
   "id": "inclusive-envelope",
   "metadata": {},
   "source": [
    "## Correlation Matrix\n",
    "\n",
    "Calculate the correlation matrix"
   ]
  },
  {
   "cell_type": "code",
   "execution_count": null,
   "id": "unnecessary-poker",
   "metadata": {},
   "outputs": [],
   "source": []
  }
 ],
 "metadata": {
  "kernelspec": {
   "display_name": "Python 3",
   "language": "python",
   "name": "python3"
  },
  "language_info": {
   "codemirror_mode": {
    "name": "ipython",
    "version": 3
   },
   "file_extension": ".py",
   "mimetype": "text/x-python",
   "name": "python",
   "nbconvert_exporter": "python",
   "pygments_lexer": "ipython3",
   "version": "3.8.5"
  }
 },
 "nbformat": 4,
 "nbformat_minor": 5
}
