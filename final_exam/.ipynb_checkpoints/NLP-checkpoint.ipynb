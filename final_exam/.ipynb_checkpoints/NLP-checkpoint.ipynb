{
 "cells": [
  {
   "cell_type": "markdown",
   "id": "beginning-suspension",
   "metadata": {},
   "source": [
    "# NLP ANalysis"
   ]
  },
  {
   "cell_type": "markdown",
   "id": "handmade-negative",
   "metadata": {},
   "source": [
    "## Dataset\n",
    "\n",
    "### Spoky authors\n",
    "\n",
    "This dataset contains text from works of fiction written by spooky authors of the public domain: Edgar Allan Poe, HP Lovecraft and Mary Shelley.\n",
    "\n",
    "Dataset retrieved from: https://www.kaggle.com/c/spooky-author-identification/data\n",
    "\n",
    "#### Columns\n",
    "\n",
    "* id: text identifier\n",
    "* text: A text sentence\n",
    "* author: author initials\n",
    "    * EAP: Edgar Allan Poe\n",
    "    * HPL: HP Lovecraft\n",
    "    * MWS: Mary Shelley"
   ]
  },
  {
   "cell_type": "code",
   "execution_count": 6,
   "id": "southeast-franklin",
   "metadata": {},
   "outputs": [
    {
     "data": {
      "text/html": [
       "<div>\n",
       "<style scoped>\n",
       "    .dataframe tbody tr th:only-of-type {\n",
       "        vertical-align: middle;\n",
       "    }\n",
       "\n",
       "    .dataframe tbody tr th {\n",
       "        vertical-align: top;\n",
       "    }\n",
       "\n",
       "    .dataframe thead th {\n",
       "        text-align: right;\n",
       "    }\n",
       "</style>\n",
       "<table border=\"1\" class=\"dataframe\">\n",
       "  <thead>\n",
       "    <tr style=\"text-align: right;\">\n",
       "      <th></th>\n",
       "      <th>id</th>\n",
       "      <th>text</th>\n",
       "      <th>author</th>\n",
       "    </tr>\n",
       "  </thead>\n",
       "  <tbody>\n",
       "    <tr>\n",
       "      <th>0</th>\n",
       "      <td>id26305</td>\n",
       "      <td>This process, however, afforded me no means of...</td>\n",
       "      <td>EAP</td>\n",
       "    </tr>\n",
       "    <tr>\n",
       "      <th>1</th>\n",
       "      <td>id17569</td>\n",
       "      <td>It never once occurred to me that the fumbling...</td>\n",
       "      <td>HPL</td>\n",
       "    </tr>\n",
       "    <tr>\n",
       "      <th>2</th>\n",
       "      <td>id11008</td>\n",
       "      <td>In his left hand was a gold snuff box, from wh...</td>\n",
       "      <td>EAP</td>\n",
       "    </tr>\n",
       "    <tr>\n",
       "      <th>3</th>\n",
       "      <td>id27763</td>\n",
       "      <td>How lovely is spring As we looked from Windsor...</td>\n",
       "      <td>MWS</td>\n",
       "    </tr>\n",
       "    <tr>\n",
       "      <th>4</th>\n",
       "      <td>id12958</td>\n",
       "      <td>Finding nothing else, not even gold, the Super...</td>\n",
       "      <td>HPL</td>\n",
       "    </tr>\n",
       "  </tbody>\n",
       "</table>\n",
       "</div>"
      ],
      "text/plain": [
       "        id                                               text author\n",
       "0  id26305  This process, however, afforded me no means of...    EAP\n",
       "1  id17569  It never once occurred to me that the fumbling...    HPL\n",
       "2  id11008  In his left hand was a gold snuff box, from wh...    EAP\n",
       "3  id27763  How lovely is spring As we looked from Windsor...    MWS\n",
       "4  id12958  Finding nothing else, not even gold, the Super...    HPL"
      ]
     },
     "execution_count": 6,
     "metadata": {},
     "output_type": "execute_result"
    }
   ],
   "source": [
    "import pandas as pd\n",
    "authors_df = pd.read_csv('./texts.csv')\n",
    "authors_df.head()"
   ]
  },
  {
   "cell_type": "markdown",
   "id": "known-angle",
   "metadata": {},
   "source": [
    "---\n",
    "## NLP Excersice"
   ]
  },
  {
   "cell_type": "markdown",
   "id": "median-sample",
   "metadata": {},
   "source": [
    "Join all texts by author"
   ]
  },
  {
   "cell_type": "code",
   "execution_count": 39,
   "id": "lyric-bracelet",
   "metadata": {},
   "outputs": [],
   "source": [
    "EAP_texts = autors_df[autors_df['author'] == 'EAP']['text'].to_list()\n",
    "EAP_full_text = \". \".join(EAP_texts).lower()\n",
    "\n",
    "# Do the same for Mary Shelley and HP Lovecraft\n"
   ]
  },
  {
   "cell_type": "code",
   "execution_count": 40,
   "id": "entire-reflection",
   "metadata": {},
   "outputs": [],
   "source": [
    "from nltk.tokenize import word_tokenize\n",
    "from nltk.corpus import stopwords\n",
    "from nltk.stem import PorterStemmer\n",
    "from nltk import FreqDist"
   ]
  },
  {
   "cell_type": "markdown",
   "id": "higher-cooperative",
   "metadata": {},
   "source": [
    "Tokenize every author text"
   ]
  },
  {
   "cell_type": "code",
   "execution_count": null,
   "id": "active-slide",
   "metadata": {},
   "outputs": [],
   "source": []
  },
  {
   "cell_type": "markdown",
   "id": "satellite-basis",
   "metadata": {},
   "source": [
    "Define your stopwords"
   ]
  },
  {
   "cell_type": "code",
   "execution_count": null,
   "id": "labeled-investor",
   "metadata": {},
   "outputs": [],
   "source": []
  },
  {
   "cell_type": "markdown",
   "id": "floating-terror",
   "metadata": {},
   "source": [
    "Filter the words by excluding `stopwords` and selecting only `alpha` words"
   ]
  },
  {
   "cell_type": "code",
   "execution_count": null,
   "id": "circular-senator",
   "metadata": {},
   "outputs": [],
   "source": []
  },
  {
   "cell_type": "markdown",
   "id": "typical-heart",
   "metadata": {},
   "source": [
    "Instanciate a `PorterStemmer` and get the `stem` of every word for the 3 authors"
   ]
  },
  {
   "cell_type": "code",
   "execution_count": null,
   "id": "sufficient-degree",
   "metadata": {},
   "outputs": [],
   "source": []
  },
  {
   "cell_type": "markdown",
   "id": "decent-utilization",
   "metadata": {},
   "source": [
    "Using a `FreqDist`, print the 5 most used stems for each author, and plot the 20 most used ones"
   ]
  },
  {
   "cell_type": "code",
   "execution_count": 41,
   "id": "reasonable-stations",
   "metadata": {},
   "outputs": [],
   "source": [
    "# for word, count in freq.mostcommon():"
   ]
  },
  {
   "cell_type": "code",
   "execution_count": 42,
   "id": "substantial-scheme",
   "metadata": {},
   "outputs": [],
   "source": [
    "#freq.plot()"
   ]
  }
 ],
 "metadata": {
  "kernelspec": {
   "display_name": "Python 3",
   "language": "python",
   "name": "python3"
  },
  "language_info": {
   "codemirror_mode": {
    "name": "ipython",
    "version": 3
   },
   "file_extension": ".py",
   "mimetype": "text/x-python",
   "name": "python",
   "nbconvert_exporter": "python",
   "pygments_lexer": "ipython3",
   "version": "3.8.5"
  }
 },
 "nbformat": 4,
 "nbformat_minor": 5
}
