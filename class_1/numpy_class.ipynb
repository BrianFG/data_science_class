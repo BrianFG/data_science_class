{
 "cells": [
  {
   "cell_type": "markdown",
   "id": "failing-kitty",
   "metadata": {},
   "source": [
    "# Numpy"
   ]
  },
  {
   "cell_type": "markdown",
   "id": "serious-abuse",
   "metadata": {},
   "source": [
    "### Install libraries"
   ]
  },
  {
   "cell_type": "markdown",
   "id": "former-delivery",
   "metadata": {},
   "source": [
    "Use `!` to run things on terminal"
   ]
  },
  {
   "cell_type": "code",
   "execution_count": 24,
   "id": "swedish-coordinator",
   "metadata": {},
   "outputs": [
    {
     "name": "stdout",
     "output_type": "stream",
     "text": [
      "Requirement already satisfied: numpy in /home/brian/miniconda3/lib/python3.8/site-packages (1.20.1)\n",
      "Requirement already satisfied: pandas in /home/brian/miniconda3/lib/python3.8/site-packages (1.2.3)\n",
      "Requirement already satisfied: numpy>=1.16.5 in /home/brian/miniconda3/lib/python3.8/site-packages (from pandas) (1.20.1)\n",
      "Requirement already satisfied: pytz>=2017.3 in /home/brian/miniconda3/lib/python3.8/site-packages (from pandas) (2021.1)\n",
      "Requirement already satisfied: python-dateutil>=2.7.3 in /home/brian/miniconda3/lib/python3.8/site-packages (from pandas) (2.8.1)\n",
      "Requirement already satisfied: six>=1.5 in /home/brian/miniconda3/lib/python3.8/site-packages (from python-dateutil>=2.7.3->pandas) (1.15.0)\n"
     ]
    }
   ],
   "source": [
    "!pip install numpy\n",
    "!pip install pandas"
   ]
  },
  {
   "cell_type": "markdown",
   "id": "written-millennium",
   "metadata": {},
   "source": [
    "### Import libraries"
   ]
  },
  {
   "cell_type": "code",
   "execution_count": 25,
   "id": "executed-slave",
   "metadata": {},
   "outputs": [],
   "source": [
    "# Import numpy for statistical functions\n",
    "import numpy as np\n",
    "# Import pandas for easy CSV reading\n",
    "import pandas as pd"
   ]
  },
  {
   "cell_type": "markdown",
   "id": "chubby-darkness",
   "metadata": {},
   "source": [
    "### Read the CSV"
   ]
  },
  {
   "cell_type": "code",
   "execution_count": 27,
   "id": "annoying-explosion",
   "metadata": {},
   "outputs": [
    {
     "data": {
      "text/html": [
       "<div>\n",
       "<style scoped>\n",
       "    .dataframe tbody tr th:only-of-type {\n",
       "        vertical-align: middle;\n",
       "    }\n",
       "\n",
       "    .dataframe tbody tr th {\n",
       "        vertical-align: top;\n",
       "    }\n",
       "\n",
       "    .dataframe thead th {\n",
       "        text-align: right;\n",
       "    }\n",
       "</style>\n",
       "<table border=\"1\" class=\"dataframe\">\n",
       "  <thead>\n",
       "    <tr style=\"text-align: right;\">\n",
       "      <th></th>\n",
       "      <th>gender</th>\n",
       "      <th>race/ethnicity</th>\n",
       "      <th>parental level of education</th>\n",
       "      <th>lunch</th>\n",
       "      <th>test preparation course</th>\n",
       "      <th>math score</th>\n",
       "      <th>reading score</th>\n",
       "      <th>writing score</th>\n",
       "    </tr>\n",
       "  </thead>\n",
       "  <tbody>\n",
       "    <tr>\n",
       "      <th>0</th>\n",
       "      <td>female</td>\n",
       "      <td>group B</td>\n",
       "      <td>bachelor's degree</td>\n",
       "      <td>standard</td>\n",
       "      <td>none</td>\n",
       "      <td>72</td>\n",
       "      <td>72</td>\n",
       "      <td>74</td>\n",
       "    </tr>\n",
       "    <tr>\n",
       "      <th>1</th>\n",
       "      <td>female</td>\n",
       "      <td>group C</td>\n",
       "      <td>some college</td>\n",
       "      <td>standard</td>\n",
       "      <td>completed</td>\n",
       "      <td>69</td>\n",
       "      <td>90</td>\n",
       "      <td>88</td>\n",
       "    </tr>\n",
       "    <tr>\n",
       "      <th>2</th>\n",
       "      <td>female</td>\n",
       "      <td>group B</td>\n",
       "      <td>master's degree</td>\n",
       "      <td>standard</td>\n",
       "      <td>none</td>\n",
       "      <td>90</td>\n",
       "      <td>95</td>\n",
       "      <td>93</td>\n",
       "    </tr>\n",
       "    <tr>\n",
       "      <th>3</th>\n",
       "      <td>male</td>\n",
       "      <td>group A</td>\n",
       "      <td>associate's degree</td>\n",
       "      <td>free/reduced</td>\n",
       "      <td>none</td>\n",
       "      <td>47</td>\n",
       "      <td>57</td>\n",
       "      <td>44</td>\n",
       "    </tr>\n",
       "    <tr>\n",
       "      <th>4</th>\n",
       "      <td>male</td>\n",
       "      <td>group C</td>\n",
       "      <td>some college</td>\n",
       "      <td>standard</td>\n",
       "      <td>none</td>\n",
       "      <td>76</td>\n",
       "      <td>78</td>\n",
       "      <td>75</td>\n",
       "    </tr>\n",
       "  </tbody>\n",
       "</table>\n",
       "</div>"
      ],
      "text/plain": [
       "   gender race/ethnicity parental level of education         lunch  \\\n",
       "0  female        group B           bachelor's degree      standard   \n",
       "1  female        group C                some college      standard   \n",
       "2  female        group B             master's degree      standard   \n",
       "3    male        group A          associate's degree  free/reduced   \n",
       "4    male        group C                some college      standard   \n",
       "\n",
       "  test preparation course  math score  reading score  writing score  \n",
       "0                    none          72             72             74  \n",
       "1               completed          69             90             88  \n",
       "2                    none          90             95             93  \n",
       "3                    none          47             57             44  \n",
       "4                    none          76             78             75  "
      ]
     },
     "execution_count": 27,
     "metadata": {},
     "output_type": "execute_result"
    }
   ],
   "source": [
    "df = pd.read_csv('./datasets/StudentsPerformance.csv')\n",
    "# Display only the top 5 elements\n",
    "df.head(5)"
   ]
  },
  {
   "cell_type": "markdown",
   "id": "reserved-cycling",
   "metadata": {},
   "source": [
    "### Create an array from any column\n",
    "- Getting math scores column as an array"
   ]
  },
  {
   "cell_type": "code",
   "execution_count": 29,
   "id": "tested-gates",
   "metadata": {},
   "outputs": [
    {
     "data": {
      "text/plain": [
       "array([72, 69, 90, 47, 76, 71, 88, 40, 64, 38])"
      ]
     },
     "execution_count": 29,
     "metadata": {},
     "output_type": "execute_result"
    }
   ],
   "source": [
    "math_scores = np.array(df['math score'])\n",
    "math_scores[:10]"
   ]
  },
  {
   "cell_type": "markdown",
   "id": "eligible-league",
   "metadata": {},
   "source": [
    "### Numpy Statistics"
   ]
  },
  {
   "cell_type": "markdown",
   "id": "handy-armstrong",
   "metadata": {},
   "source": [
    "#### Mean"
   ]
  },
  {
   "cell_type": "markdown",
   "id": "capable-vancouver",
   "metadata": {},
   "source": [
    "- Formula\n",
    "\n",
    "${\\displaystyle A={\\frac {1}{n}}\\sum _{i=1}^{n}a_{i}={\\frac {a_{1}+a_{2}+\\cdots +a_{n}}{n}}}$"
   ]
  },
  {
   "cell_type": "code",
   "execution_count": 34,
   "id": "inner-bleeding",
   "metadata": {},
   "outputs": [
    {
     "name": "stdout",
     "output_type": "stream",
     "text": [
      "66.089\n",
      "66.089\n"
     ]
    }
   ],
   "source": [
    "# Using sum and dividing by total\n",
    "mean = np.sum(math_scores) / len(math_scores)\n",
    "print(mean)\n",
    "# Using built in mean function\n",
    "mean = np.mean(math_scores)\n",
    "print(mean)"
   ]
  },
  {
   "cell_type": "markdown",
   "id": "developing-elements",
   "metadata": {},
   "source": [
    "#### Median\n",
    "- Description\n",
    "- Formula\n",
    "\n",
    "  $m\\left(x\\right)\n",
    "=\\begin{cases}\n",
    "  x_\\frac{n+1}{2}                                    & n\\text{ odd}\\\\\n",
    "  \\frac {1}{2}\\left(x_{\\frac{n}{2}} + x_{\\frac{n}{2} + 1}\\right) & n \\text{ even}\n",
    "\\end{cases}$\n"
   ]
  },
  {
   "cell_type": "code",
   "execution_count": 71,
   "id": "pressed-boutique",
   "metadata": {},
   "outputs": [],
   "source": [
    "def get_median(arr):\n",
    "    n = len(arr)\n",
    "    sorted_arr = sorted(math_scores)\n",
    "    if n % 2 == 0:\n",
    "        return (sorted_arr[n//2] + sorted_arr[n//2 - 1])/2\n",
    "    else:\n",
    "        return sorted_arr[n//2]"
   ]
  },
  {
   "cell_type": "code",
   "execution_count": 72,
   "id": "signal-prototype",
   "metadata": {},
   "outputs": [
    {
     "name": "stdout",
     "output_type": "stream",
     "text": [
      "66.0\n",
      "66.0\n"
     ]
    }
   ],
   "source": [
    "# Using own formula\n",
    "print(get_median(math_scores))\n",
    "# Using built in median function\n",
    "print(np.median(math_scores))"
   ]
  },
  {
   "cell_type": "markdown",
   "id": "third-spice",
   "metadata": {},
   "source": [
    "#### Variance\n",
    "- Description\n",
    "- Formula\n",
    "\n",
    "  $\\sigma^2 = \\frac{\\sum\\limits_{i=1}^N (X -\\mu)^2}{N}$\n",
    "\n"
   ]
  },
  {
   "cell_type": "code",
   "execution_count": 73,
   "id": "formal-adventure",
   "metadata": {},
   "outputs": [],
   "source": [
    "def get_variance(arr):\n",
    "    n = len(arr)\n",
    "    mean = np.mean(arr)\n",
    "    # deviations = [(x - mean) ** 2 for x in arr]\n",
    "    # Better use numpy vector operations\n",
    "    deviations = (arr - mean) ** 2\n",
    "    variance = np.sum(deviations) / n\n",
    "    return variance"
   ]
  },
  {
   "cell_type": "code",
   "execution_count": 74,
   "id": "automotive-insight",
   "metadata": {},
   "outputs": [
    {
     "name": "stdout",
     "output_type": "stream",
     "text": [
      "229.68907899999996\n",
      "229.68907899999996\n"
     ]
    }
   ],
   "source": [
    "print(get_variance(math_scores))\n",
    "print(np.var(math_scores))"
   ]
  },
  {
   "cell_type": "markdown",
   "id": "alien-quality",
   "metadata": {},
   "source": [
    "#### Standard Deviation\n",
    "- Description\n",
    "- Formula\n",
    "\n",
    "$\\sigma = \\sqrt{\\frac{\\sum\\limits_{i=1}^N (X -\\mu)^2}{N}}$\n"
   ]
  },
  {
   "cell_type": "code",
   "execution_count": 75,
   "id": "another-prophet",
   "metadata": {},
   "outputs": [
    {
     "name": "stdout",
     "output_type": "stream",
     "text": [
      "15.155496659628149\n",
      "15.155496659628149\n"
     ]
    }
   ],
   "source": [
    "# Using just sqrt of variance\n",
    "print(np.sqrt(np.var(math_scores)))\n",
    "# Using built in numpy function\n",
    "print(np.std(math_scores))"
   ]
  },
  {
   "cell_type": "code",
   "execution_count": null,
   "id": "concrete-karen",
   "metadata": {},
   "outputs": [],
   "source": []
  }
 ],
 "metadata": {
  "kernelspec": {
   "display_name": "Python 3",
   "language": "python",
   "name": "python3"
  },
  "language_info": {
   "codemirror_mode": {
    "name": "ipython",
    "version": 3
   },
   "file_extension": ".py",
   "mimetype": "text/x-python",
   "name": "python",
   "nbconvert_exporter": "python",
   "pygments_lexer": "ipython3",
   "version": "3.8.5"
  }
 },
 "nbformat": 4,
 "nbformat_minor": 5
}
