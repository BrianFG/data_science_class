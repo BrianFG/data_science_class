{
 "cells": [
  {
   "cell_type": "markdown",
   "id": "crazy-hypothetical",
   "metadata": {},
   "source": [
    "# Numpy"
   ]
  },
  {
   "cell_type": "markdown",
   "id": "extreme-northwest",
   "metadata": {},
   "source": [
    "### Install libraries"
   ]
  },
  {
   "cell_type": "markdown",
   "id": "solid-failure",
   "metadata": {},
   "source": [
    "Use `!` to run things on terminal"
   ]
  },
  {
   "cell_type": "code",
   "execution_count": 24,
   "id": "chinese-syndrome",
   "metadata": {},
   "outputs": [
    {
     "name": "stdout",
     "output_type": "stream",
     "text": [
      "Requirement already satisfied: numpy in /home/brian/miniconda3/lib/python3.8/site-packages (1.20.1)\n",
      "Requirement already satisfied: pandas in /home/brian/miniconda3/lib/python3.8/site-packages (1.2.3)\n",
      "Requirement already satisfied: numpy>=1.16.5 in /home/brian/miniconda3/lib/python3.8/site-packages (from pandas) (1.20.1)\n",
      "Requirement already satisfied: pytz>=2017.3 in /home/brian/miniconda3/lib/python3.8/site-packages (from pandas) (2021.1)\n",
      "Requirement already satisfied: python-dateutil>=2.7.3 in /home/brian/miniconda3/lib/python3.8/site-packages (from pandas) (2.8.1)\n",
      "Requirement already satisfied: six>=1.5 in /home/brian/miniconda3/lib/python3.8/site-packages (from python-dateutil>=2.7.3->pandas) (1.15.0)\n"
     ]
    }
   ],
   "source": [
    "!pip install numpy\n",
    "!pip install pandas"
   ]
  },
  {
   "cell_type": "markdown",
   "id": "listed-fountain",
   "metadata": {},
   "source": [
    "### Import libraries"
   ]
  },
  {
   "cell_type": "code",
   "execution_count": 25,
   "id": "natural-fantasy",
   "metadata": {},
   "outputs": [],
   "source": [
    "# Import numpy for statistical functions\n",
    "import numpy as np\n",
    "# Import pandas for easy CSV reading\n",
    "import pandas as pd"
   ]
  },
  {
   "cell_type": "markdown",
   "id": "overhead-charleston",
   "metadata": {},
   "source": [
    "### Read the CSV"
   ]
  },
  {
   "cell_type": "code",
   "execution_count": 27,
   "id": "threaded-turkish",
   "metadata": {},
   "outputs": [
    {
     "data": {
      "text/html": [
       "<div>\n",
       "<style scoped>\n",
       "    .dataframe tbody tr th:only-of-type {\n",
       "        vertical-align: middle;\n",
       "    }\n",
       "\n",
       "    .dataframe tbody tr th {\n",
       "        vertical-align: top;\n",
       "    }\n",
       "\n",
       "    .dataframe thead th {\n",
       "        text-align: right;\n",
       "    }\n",
       "</style>\n",
       "<table border=\"1\" class=\"dataframe\">\n",
       "  <thead>\n",
       "    <tr style=\"text-align: right;\">\n",
       "      <th></th>\n",
       "      <th>gender</th>\n",
       "      <th>race/ethnicity</th>\n",
       "      <th>parental level of education</th>\n",
       "      <th>lunch</th>\n",
       "      <th>test preparation course</th>\n",
       "      <th>math score</th>\n",
       "      <th>reading score</th>\n",
       "      <th>writing score</th>\n",
       "    </tr>\n",
       "  </thead>\n",
       "  <tbody>\n",
       "    <tr>\n",
       "      <th>0</th>\n",
       "      <td>female</td>\n",
       "      <td>group B</td>\n",
       "      <td>bachelor's degree</td>\n",
       "      <td>standard</td>\n",
       "      <td>none</td>\n",
       "      <td>72</td>\n",
       "      <td>72</td>\n",
       "      <td>74</td>\n",
       "    </tr>\n",
       "    <tr>\n",
       "      <th>1</th>\n",
       "      <td>female</td>\n",
       "      <td>group C</td>\n",
       "      <td>some college</td>\n",
       "      <td>standard</td>\n",
       "      <td>completed</td>\n",
       "      <td>69</td>\n",
       "      <td>90</td>\n",
       "      <td>88</td>\n",
       "    </tr>\n",
       "    <tr>\n",
       "      <th>2</th>\n",
       "      <td>female</td>\n",
       "      <td>group B</td>\n",
       "      <td>master's degree</td>\n",
       "      <td>standard</td>\n",
       "      <td>none</td>\n",
       "      <td>90</td>\n",
       "      <td>95</td>\n",
       "      <td>93</td>\n",
       "    </tr>\n",
       "    <tr>\n",
       "      <th>3</th>\n",
       "      <td>male</td>\n",
       "      <td>group A</td>\n",
       "      <td>associate's degree</td>\n",
       "      <td>free/reduced</td>\n",
       "      <td>none</td>\n",
       "      <td>47</td>\n",
       "      <td>57</td>\n",
       "      <td>44</td>\n",
       "    </tr>\n",
       "    <tr>\n",
       "      <th>4</th>\n",
       "      <td>male</td>\n",
       "      <td>group C</td>\n",
       "      <td>some college</td>\n",
       "      <td>standard</td>\n",
       "      <td>none</td>\n",
       "      <td>76</td>\n",
       "      <td>78</td>\n",
       "      <td>75</td>\n",
       "    </tr>\n",
       "  </tbody>\n",
       "</table>\n",
       "</div>"
      ],
      "text/plain": [
       "   gender race/ethnicity parental level of education         lunch  \\\n",
       "0  female        group B           bachelor's degree      standard   \n",
       "1  female        group C                some college      standard   \n",
       "2  female        group B             master's degree      standard   \n",
       "3    male        group A          associate's degree  free/reduced   \n",
       "4    male        group C                some college      standard   \n",
       "\n",
       "  test preparation course  math score  reading score  writing score  \n",
       "0                    none          72             72             74  \n",
       "1               completed          69             90             88  \n",
       "2                    none          90             95             93  \n",
       "3                    none          47             57             44  \n",
       "4                    none          76             78             75  "
      ]
     },
     "execution_count": 27,
     "metadata": {},
     "output_type": "execute_result"
    }
   ],
   "source": [
    "df = pd.read_csv('./datasets/StudentsPerformance.csv')\n",
    "# Display only the top 5 elements\n",
    "df.head(5)"
   ]
  },
  {
   "cell_type": "markdown",
   "id": "mighty-jungle",
   "metadata": {},
   "source": [
    "### Create an array from any column\n",
    "- Getting math scores column as an array"
   ]
  },
  {
   "cell_type": "code",
   "execution_count": 29,
   "id": "senior-thompson",
   "metadata": {},
   "outputs": [
    {
     "data": {
      "text/plain": [
       "array([72, 69, 90, 47, 76, 71, 88, 40, 64, 38])"
      ]
     },
     "execution_count": 29,
     "metadata": {},
     "output_type": "execute_result"
    }
   ],
   "source": [
    "math_scores = np.array(df['math score'])\n",
    "math_scores[:10]"
   ]
  },
  {
   "cell_type": "markdown",
   "id": "helpful-bolivia",
   "metadata": {},
   "source": [
    "### Numpy Statistics"
   ]
  },
  {
   "cell_type": "markdown",
   "id": "accurate-judges",
   "metadata": {},
   "source": [
    "#### Mean"
   ]
  },
  {
   "cell_type": "markdown",
   "id": "assumed-exemption",
   "metadata": {},
   "source": [
    "- Formula\n",
    "\n",
    "${\\displaystyle A={\\frac {1}{n}}\\sum _{i=1}^{n}a_{i}={\\frac {a_{1}+a_{2}+\\cdots +a_{n}}{n}}}$"
   ]
  },
  {
   "cell_type": "code",
   "execution_count": 34,
   "id": "manufactured-carpet",
   "metadata": {},
   "outputs": [
    {
     "name": "stdout",
     "output_type": "stream",
     "text": [
      "66.089\n",
      "66.089\n"
     ]
    }
   ],
   "source": [
    "# Using sum and dividing by total\n",
    "mean = np.sum(math_scores) / len(math_scores)\n",
    "print(mean)\n",
    "# Using buil in mean function\n",
    "mean = np.mean(math_scores)\n",
    "print(mean)"
   ]
  },
  {
   "cell_type": "markdown",
   "id": "alone-robin",
   "metadata": {},
   "source": [
    "#### Median\n",
    "- Description\n",
    "- Formula\n",
    "\n"
   ]
  },
  {
   "cell_type": "code",
   "execution_count": 35,
   "id": "consolidated-airplane",
   "metadata": {},
   "outputs": [
    {
     "data": {
      "text/plain": [
       "66.0"
      ]
     },
     "execution_count": 35,
     "metadata": {},
     "output_type": "execute_result"
    }
   ],
   "source": [
    "np.median(math_scores)"
   ]
  },
  {
   "cell_type": "markdown",
   "id": "commercial-parks",
   "metadata": {},
   "source": [
    "#### Variance\n",
    "- Description\n",
    "- Formula\n"
   ]
  },
  {
   "cell_type": "code",
   "execution_count": 18,
   "id": "enclosed-cholesterol",
   "metadata": {},
   "outputs": [
    {
     "data": {
      "text/plain": [
       "229.68907899999996"
      ]
     },
     "execution_count": 18,
     "metadata": {},
     "output_type": "execute_result"
    }
   ],
   "source": [
    "np.var(math_scores)"
   ]
  },
  {
   "cell_type": "markdown",
   "id": "parallel-journey",
   "metadata": {},
   "source": [
    "#### Standar Deviation\n",
    "- Description\n",
    "- Formula\n"
   ]
  },
  {
   "cell_type": "code",
   "execution_count": 36,
   "id": "hazardous-clothing",
   "metadata": {},
   "outputs": [
    {
     "data": {
      "text/plain": [
       "15.155496659628149"
      ]
     },
     "execution_count": 36,
     "metadata": {},
     "output_type": "execute_result"
    }
   ],
   "source": [
    "np.std(math_scores)"
   ]
  }
 ],
 "metadata": {
  "kernelspec": {
   "display_name": "Python 3",
   "language": "python",
   "name": "python3"
  },
  "language_info": {
   "codemirror_mode": {
    "name": "ipython",
    "version": 3
   },
   "file_extension": ".py",
   "mimetype": "text/x-python",
   "name": "python",
   "nbconvert_exporter": "python",
   "pygments_lexer": "ipython3",
   "version": "3.8.5"
  }
 },
 "nbformat": 4,
 "nbformat_minor": 5
}
